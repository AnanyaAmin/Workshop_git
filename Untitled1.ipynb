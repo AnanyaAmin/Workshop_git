{
 "cells": [
  {
   "cell_type": "code",
   "execution_count": 1,
   "metadata": {},
   "outputs": [
    {
     "name": "stdout",
     "output_type": "stream",
     "text": [
      "Enter the value of a:5\n",
      "Enter the value of b:5\n",
      "Enter the operator*\n",
      "Multiplication a and b: 25\n"
     ]
    }
   ],
   "source": [
    "a=int(input(\"Enter the value of a:\"))\n",
    "b=int(input(\"Enter the value of b:\"))\n",
    "c=input(\"Enter the operator\")\n",
    "if c=='+':\n",
    "    print(\"Add a and b:\",a+b)\n",
    "elif c=='-':\n",
    "    print(\"Subtract a and b:\",a-b)\n",
    "elif c=='*':\n",
    "    print(\"Multiplication a and b:\",a*b)\n",
    "elif c=='/':\n",
    "    print(\"Divide a and b:\",a/b)\n",
    "elif c=='%':\n",
    "    print(\"Modulus of a and b:\",a%b)\n",
    "else:\n",
    "    print(\"Invlid choice\")"
   ]
  },
  {
   "cell_type": "code",
   "execution_count": null,
   "metadata": {
    "collapsed": true
   },
   "outputs": [],
   "source": []
  }
 ],
 "metadata": {
  "kernelspec": {
   "display_name": "Python 3",
   "language": "python",
   "name": "python3"
  },
  "language_info": {
   "codemirror_mode": {
    "name": "ipython",
    "version": 3
   },
   "file_extension": ".py",
   "mimetype": "text/x-python",
   "name": "python",
   "nbconvert_exporter": "python",
   "pygments_lexer": "ipython3",
   "version": "3.6.3"
  }
 },
 "nbformat": 4,
 "nbformat_minor": 2
}
